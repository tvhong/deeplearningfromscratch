{
 "cells": [
  {
   "cell_type": "code",
   "execution_count": 4,
   "id": "cc9d8eb0-5217-4a3a-9005-8e61a5633001",
   "metadata": {},
   "outputs": [
    {
     "name": "stdout",
     "output_type": "stream",
     "text": [
      "Requirement already satisfied: numpy in ./venv/lib/python3.9/site-packages (1.26.2)\n",
      "Requirement already satisfied: matplotlib in ./venv/lib/python3.9/site-packages (3.8.2)\n",
      "Requirement already satisfied: contourpy>=1.0.1 in ./venv/lib/python3.9/site-packages (from matplotlib) (1.2.0)\n",
      "Requirement already satisfied: cycler>=0.10 in ./venv/lib/python3.9/site-packages (from matplotlib) (0.12.1)\n",
      "Requirement already satisfied: fonttools>=4.22.0 in ./venv/lib/python3.9/site-packages (from matplotlib) (4.47.0)\n",
      "Requirement already satisfied: kiwisolver>=1.3.1 in ./venv/lib/python3.9/site-packages (from matplotlib) (1.4.5)\n",
      "Requirement already satisfied: packaging>=20.0 in ./venv/lib/python3.9/site-packages (from matplotlib) (23.2)\n",
      "Requirement already satisfied: pillow>=8 in ./venv/lib/python3.9/site-packages (from matplotlib) (10.1.0)\n",
      "Requirement already satisfied: pyparsing>=2.3.1 in ./venv/lib/python3.9/site-packages (from matplotlib) (3.1.1)\n",
      "Requirement already satisfied: python-dateutil>=2.7 in ./venv/lib/python3.9/site-packages (from matplotlib) (2.8.2)\n",
      "Requirement already satisfied: importlib-resources>=3.2.0 in ./venv/lib/python3.9/site-packages (from matplotlib) (6.1.1)\n",
      "Requirement already satisfied: zipp>=3.1.0 in ./venv/lib/python3.9/site-packages (from importlib-resources>=3.2.0->matplotlib) (3.17.0)\n",
      "Requirement already satisfied: six>=1.5 in ./venv/lib/python3.9/site-packages (from python-dateutil>=2.7->matplotlib) (1.16.0)\n"
     ]
    }
   ],
   "source": [
    "# Install dependencies\n",
    "!pip install numpy matplotlib"
   ]
  },
  {
   "cell_type": "code",
   "execution_count": 6,
   "id": "96bb505a-90c3-4bb1-bfc4-93e51db5e032",
   "metadata": {},
   "outputs": [],
   "source": [
    "import numpy as np\n",
    "from numpy import ndarray\n",
    "\n",
    "from typing import Callable, List"
   ]
  },
  {
   "cell_type": "code",
   "execution_count": null,
   "id": "8571704c-d450-44d3-b8d8-c164c1c670a8",
   "metadata": {},
   "outputs": [],
   "source": [
    "## Chain Rules"
   ]
  },
  {
   "cell_type": "code",
   "execution_count": 23,
   "id": "b1e8e32f-50c0-4d76-b387-36671a8de77b",
   "metadata": {},
   "outputs": [
    {
     "name": "stdout",
     "output_type": "stream",
     "text": [
      "[ 7 12 19]\n",
      "a2 = [1 2 3]\n",
      "[2.71828183e+00 5.45981500e+01 8.10308393e+03]\n",
      "deriv = [2. 4. 6.]\n"
     ]
    },
    {
     "ename": "AssertionError",
     "evalue": "",
     "output_type": "error",
     "traceback": [
      "\u001b[0;31m---------------------------------------------------------------------------\u001b[0m",
      "\u001b[0;31mAssertionError\u001b[0m                            Traceback (most recent call last)",
      "Cell \u001b[0;32mIn[23], line 42\u001b[0m\n\u001b[1;32m     40\u001b[0m d2 \u001b[38;5;241m=\u001b[39m deriv(chain2[\u001b[38;5;241m0\u001b[39m], a2)\n\u001b[1;32m     41\u001b[0m \u001b[38;5;28mprint\u001b[39m(\u001b[38;5;124mf\u001b[39m\u001b[38;5;124m\"\u001b[39m\u001b[38;5;124mderiv = \u001b[39m\u001b[38;5;132;01m{\u001b[39;00md2\u001b[38;5;132;01m}\u001b[39;00m\u001b[38;5;124m\"\u001b[39m)\n\u001b[0;32m---> 42\u001b[0m \u001b[38;5;28;01massert\u001b[39;00m np\u001b[38;5;241m.\u001b[39mallclose(d2, np\u001b[38;5;241m.\u001b[39marray([\u001b[38;5;241m1\u001b[39m,\u001b[38;5;241m4\u001b[39m,\u001b[38;5;241m6\u001b[39m]))\n\u001b[1;32m     44\u001b[0m dc2 \u001b[38;5;241m=\u001b[39m deriv_chain(chain2, a2)\n\u001b[1;32m     45\u001b[0m \u001b[38;5;28mprint\u001b[39m(\u001b[38;5;124mf\u001b[39m\u001b[38;5;124m\"\u001b[39m\u001b[38;5;124mderiv_chain = \u001b[39m\u001b[38;5;132;01m{\u001b[39;00mdc2\u001b[38;5;132;01m}\u001b[39;00m\u001b[38;5;124m\"\u001b[39m)\n",
      "\u001b[0;31mAssertionError\u001b[0m: "
     ]
    }
   ],
   "source": [
    "ArrayFunction = Callable[[ndarray], ndarray]\n",
    "Chain = List[ArrayFunction]\n",
    "\n",
    "\n",
    "def apply(chain: Chain, input_: ndarray) -> ndarray:\n",
    "    temp = input_\n",
    "    for func in chain:\n",
    "        temp = func(temp)\n",
    "\n",
    "    return temp\n",
    "\n",
    "\n",
    "def deriv(func: ArrayFunction, input_: ndarray, delta: float = 0.001) -> ndarray:\n",
    "    return (func(input_ + delta) - func(input_ - delta)) / (2 * delta)\n",
    "\n",
    "\n",
    "def deriv_chain(chain: Chain, input_: ndarray, delta: float = 0.001) -> ndarray:\n",
    "    answer = 1\n",
    "    temp = input_\n",
    "    for func in chain:\n",
    "        answer *= deriv(func, temp, delta)\n",
    "        temp = func(temp)\n",
    "    return answer\n",
    "\n",
    "chain: Chain = [\n",
    "        lambda x: x + 1,\n",
    "        lambda x: x * x,\n",
    "        lambda x: x + 3,\n",
    "]\n",
    "print(apply(chain, np.array([1,2,3])))\n",
    "\n",
    "chain2: Chain = [\n",
    "    lambda x: np.power(x, 2),\n",
    "    lambda x: np.exp(x),\n",
    "]\n",
    "a2 = np.array([1,2,3])\n",
    "print(f\"a2 = {a2}\")\n",
    "print(apply(chain2, a2))\n",
    "\n",
    "d2 = deriv(chain2[0], a2)\n",
    "print(f\"deriv = {d2}\")\n",
    "assert np.allclose(d2, np.array([1,4,6]))\n",
    "\n",
    "dc2 = deriv_chain(chain2, a2)\n",
    "print(f\"deriv_chain = {dc2}\")\n",
    "assert np.allclose(dc2, 2 * a2 * np.exp(np.power(a2, 2)))"
   ]
  }
 ],
 "metadata": {
  "kernelspec": {
   "display_name": "Python 3 (ipykernel)",
   "language": "python",
   "name": "python3"
  },
  "language_info": {
   "codemirror_mode": {
    "name": "ipython",
    "version": 3
   },
   "file_extension": ".py",
   "mimetype": "text/x-python",
   "name": "python",
   "nbconvert_exporter": "python",
   "pygments_lexer": "ipython3",
   "version": "3.9.17"
  }
 },
 "nbformat": 4,
 "nbformat_minor": 5
}
